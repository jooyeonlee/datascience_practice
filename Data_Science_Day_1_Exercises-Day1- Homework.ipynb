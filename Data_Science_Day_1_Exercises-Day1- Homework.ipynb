{
 "cells": [
  {
   "cell_type": "markdown",
   "metadata": {},
   "source": [
    "# Exercises"
   ]
  },
  {
   "cell_type": "markdown",
   "metadata": {},
   "source": [
    "### #1 - Calculate the BMI (body mass index) on the two lists below using NDArrays..."
   ]
  },
  {
   "cell_type": "code",
   "execution_count": 1,
   "metadata": {},
   "outputs": [
    {
     "name": "stdout",
     "output_type": "stream",
     "text": [
      "[16.86620458 17.87755102 18.82562984 19.71450617 20.54794521 21.32943755\n",
      " 22.06222222]\n"
     ]
    }
   ],
   "source": [
    "import numpy as np\n",
    "# formula = weight / (height**2) * 730\n",
    "height = [69, 70, 71, 72, 73, 74, 75]\n",
    "weight = [110, 120, 130, 140, 150, 160, 170]\n",
    "\n",
    "np_height = np.array(height)\n",
    "np_weight = np.array(weight)\n",
    "bmi = np_weight/(np_height**2) * 730\n",
    "print(bmi)\n",
    "\n",
    "# OUTPUT: [16.86620458 17.87755102 18.82562984 19.71450617 20.54794521 21.32943755\n",
    "# 22.06222222]\n",
    "\n",
    "\n"
   ]
  },
  {
   "cell_type": "markdown",
   "metadata": {},
   "source": [
    "### #2 - Create a function that will take in two parameters and will create a random matrix based off of those parameters. Extra: Have additional parameters taken in that allow the user to choose the shape and data type of the matrix."
   ]
  },
  {
   "cell_type": "code",
   "execution_count": 5,
   "metadata": {},
   "outputs": [
    {
     "name": "stdout",
     "output_type": "stream",
     "text": [
      "[[79 39 23 46 54]\n",
      " [72 97 75 31 83]\n",
      " [24  4 35 90 58]\n",
      " [23 60 80 70 63]\n",
      " [68 99 16 92 61]]\n",
      "[[154.46319265  96.49422369  99.47530299  84.25394172 114.90101735\n",
      "    7.4246724  148.10613572]\n",
      " [ 25.04258145  51.10067179 110.87970074  87.04209088  24.6187093\n",
      "   54.52292053  20.3550556 ]\n",
      " [ 78.70485648 171.73796735   9.81985451   5.66991456 118.32535869\n",
      "   37.84202984  78.30264299]\n",
      " [ 46.18100475 142.51753541 123.89332897 147.754978    91.48700333\n",
      "   84.14063034 119.25090536]\n",
      " [184.89755341 104.02818142 101.47066905  77.19190002  97.72603294\n",
      "  168.8334285  199.12389636]\n",
      " [146.36125241 179.48719042 173.35416543  70.72120837  96.50040567\n",
      "   77.82007807  22.32274079]]\n"
     ]
    }
   ],
   "source": [
    "\"\"\"\n",
    "Example Result\n",
    "array([[14.21633515,  7.98846653,  9.64140715],\n",
    "       [ 6.30982234,  9.96414331,  8.43153688],\n",
    "       [14.73102068, 11.76072894, 14.23356121]])\n",
    "\"\"\"\n",
    "# def makeMatrix(low,high,shape,data_type = float): -- Example\n",
    "#     pass\n",
    "\n",
    "def makeMatrix(low, high, shape, data_type):\n",
    "    if data_type == \"integer\":\n",
    "        x = np.random.randint(low, high, shape)\n",
    "    else:\n",
    "        x = np.random.uniform(low, high, shape)\n",
    "    return x\n",
    "\n",
    "print(makeMatrix(3, 100, (5, 5), \"integer\"))\n",
    "print(makeMatrix(3, 200, (6, 7), \"float\"))"
   ]
  },
  {
   "cell_type": "markdown",
   "metadata": {},
   "source": [
    "### #3 - Extra: Open and load the data in the two text files that have the Boston Red Sox hitting data for the past seasons. Compare the difference in the two years by putting the data into an NDArray and running a differencial operation on it. The column to look for will be SLG.\n",
    "\n",
    "Your output should display which year (either 2017 or 2018) was a better year based on SLG"
   ]
  },
  {
   "cell_type": "code",
   "execution_count": 30,
   "metadata": {},
   "outputs": [],
   "source": [
    "import csv\n",
    "import numpy as np\n",
    "\n",
    "#Test to make sure you have the correct data\n",
    "def open_csv(filename, delimiter=','):\n",
    "    data = []\n",
    "    with open(filename, encoding=\"utf-8\") as mData:\n",
    "        oData = csv.reader(mData, delimiter=delimiter)\n",
    "        \n",
    "        for row in oData:\n",
    "            data.append(row)\n",
    "            \n",
    "    return data\n",
    "\n",
    "data2017 = open_csv('./redsox_2017_hitting.txt')\n",
    "data2018 = open_csv('./redsox_2018_hitting.txt')\n"
   ]
  },
  {
   "cell_type": "code",
   "execution_count": 32,
   "metadata": {},
   "outputs": [
    {
     "name": "stdout",
     "output_type": "stream",
     "text": [
      "2017 SLG: [0.404 0.443 0.392 0.403 0.482 0.424 0.402 0.459 0.429 0.354 0.387 0.333\n",
      " 0.539 0.243 0.262 0.354 0.342 0.339 0.328 0.306 0.222 0.2   1.   ]\n",
      "2018 SLG: [0.279 0.433 0.388 0.522 0.433 0.465 0.403 0.64  0.629 0.411 0.283 0.328\n",
      " 0.395 0.507 0.311 0.415 0.389 0.261 0.091 0.167]\n",
      "2017 Agerage SLG: 0.39334782374941785\n",
      "2018 Agerage SLG: 0.38750000335276125\n",
      "Boston 17 had more SLG in 2017\n"
     ]
    }
   ],
   "source": [
    "\"\"\"\n",
    "Example Result - Not the actual result\n",
    "Boston 18 had more SLG in 2018\n",
    "[0.404 0.443 0.392 0.403 0.482 0.424 0.402 0.459 0.429 0.354 0.387 0.333\n",
    " 0.539 0.243 0.262 0.354 0.342 0.339 0.328 0.306 0.222 0.2   1.   ]\n",
    "\"\"\"\n",
    "\n",
    "FIELDS = ['Rk', 'Pos', 'Name', 'Age', 'G', 'PA', 'AB', 'R', 'H', '2B', '3B', 'HR', 'RBI', 'SB', 'CS', \n",
    "          'BB', 'SO', 'BA', 'OBP', 'SLG', 'OPS', 'OPS+', 'TB', 'GDP', 'HBP', 'SH', 'SF', 'IBB']\n",
    "\n",
    "DATATYPES = [('rk', 'i'), ('pos', '|S25'), ('name', '|S25'), ('age', 'i'), ('g', 'i'), ('pa', 'i'), ('ab', 'i'),\n",
    "                ('r', 'i'), ('h', 'i'), ('2b', 'i'), ('3b', 'i'), ('hr', 'i'), ('rbi', 'i'), ('sb', 'i'), ('cs', 'i'),\n",
    "                ('bb', 'i'), ('so', 'i'), ('ba', 'f'), ('obp', 'f'), ('slg', 'f'), ('ops', 'f'), ('opsp', 'i'),\n",
    "                ('tb', 'i'), ('gdp', 'i'), ('hbp', 'i'), ('sh', 'i'), ('sf', 'i'), ('ibb', 'i')]\n",
    "\n",
    "#Use this function to actually open the data inside of a NDArray\n",
    "sox2017 = np.genfromtxt('./redsox_2017_hitting.txt', delimiter=',', skip_header=1, usecols=np.arange(28), invalid_raise=False, names=FIELDS, dtype=DATATYPES)\n",
    "sox2018 = np.genfromtxt('./redsox_2018_hitting.txt', delimiter=',', skip_header=1, usecols=np.arange(28), invalid_raise=False, names=FIELDS, dtype=DATATYPES)\n",
    "\n",
    "slg2017 = sox2017['SLG']\n",
    "slg2018 = sox2018['SLG']\n",
    "print(\"2017 SLG:\", slg2017)\n",
    "print(\"2018 SLG:\", slg2018)\n",
    "\n",
    "avg_slg_2017 = sum(slg2017) / slg2017.shape[0]\n",
    "print(\"2017 Agerage SLG:\", avg_slg_2017)\n",
    "avg_slg_2018 = sum(slg2018) / slg2018.shape[0]\n",
    "print(\"2018 Agerage SLG:\", avg_slg_2018)\n",
    "\n",
    "if avg_slg_2017 > avg_slg_2018:\n",
    "    print(\"Boston 17 had more SLG in 2017\")\n",
    "else:\n",
    "    print(\"Boston 18 had more SLG in 2018\")"
   ]
  },
  {
   "cell_type": "code",
   "execution_count": null,
   "metadata": {},
   "outputs": [],
   "source": []
  }
 ],
 "metadata": {
  "kernelspec": {
   "display_name": "Python 3",
   "language": "python",
   "name": "python3"
  },
  "language_info": {
   "codemirror_mode": {
    "name": "ipython",
    "version": 3
   },
   "file_extension": ".py",
   "mimetype": "text/x-python",
   "name": "python",
   "nbconvert_exporter": "python",
   "pygments_lexer": "ipython3",
   "version": "3.8.8"
  }
 },
 "nbformat": 4,
 "nbformat_minor": 2
}
