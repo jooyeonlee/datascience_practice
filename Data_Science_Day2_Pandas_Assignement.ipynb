{
 "cells": [
  {
   "cell_type": "markdown",
   "id": "fae0ad60",
   "metadata": {},
   "source": [
    "### Homework Excersise #1 - Find the Total Number of Runs and RBIs for the Red Sox <br>\n",
    "<p>Get total number of home runs and rbi's</p>"
   ]
  },
  {
   "cell_type": "code",
   "execution_count": 4,
   "id": "52112e58",
   "metadata": {},
   "outputs": [
    {
     "name": "stdout",
     "output_type": "stream",
     "text": [
      "      HR  RBI\n",
      "Team         \n",
      "BOS   23   23\n",
      "\n",
      "\n",
      "      HR  RBI\n",
      "Team         \n",
      "BOS   20   20\n"
     ]
    }
   ],
   "source": [
    "import pandas as pd\n",
    "import numpy as np\n",
    "\n",
    "# always use pd, standard for data science\n",
    "# step 1: Add a new column with the key 'Team' and all column values should be 'BOS'\n",
    "\n",
    "# step 2: Group by the 'Team' column and get total home runs and rbi's\n",
    "\n",
    "# Produce data for both 2017 and 2018 (ie print both seperated by a newline character \\n)\n",
    "sox2017 = pd.read_csv('./files/redsox_2017_hitting.txt', sep=',')\n",
    "sox2018 = pd.read_csv('./files/redsox_2018_hitting.txt', sep=',')\n",
    "\n",
    "sox2017['Team'] = 'BOS'\n",
    "sox2018['Team'] = 'BOS'\n",
    "\n",
    "print(sox2017.groupby('Team').count()[['HR', 'RBI']])\n",
    "print('\\n')\n",
    "print(sox2018.groupby('Team').count()[['HR', 'RBI']])\n",
    "\n",
    "#TEAM    HR   RBI\n",
    "#----------------\n",
    "#BOS     144  538\n"
   ]
  },
  {
   "cell_type": "markdown",
   "id": "bdf85788",
   "metadata": {},
   "source": [
    "## Find the average age of runners in the 2017 Boston Marathon"
   ]
  },
  {
   "cell_type": "code",
   "execution_count": 8,
   "id": "eb039d5c",
   "metadata": {},
   "outputs": [
    {
     "name": "stdout",
     "output_type": "stream",
     "text": [
      "Average Age:  Age    42.587732\n",
      "dtype: float64\n"
     ]
    }
   ],
   "source": [
    "boston2017 = pd.read_csv('./files/boston_marathon2017_edited.csv', sep=',')\n",
    "boston2017\n",
    "print(\"Average Age: \", boston2017.mean()[['Age']])"
   ]
  },
  {
   "cell_type": "code",
   "execution_count": null,
   "id": "ae342732",
   "metadata": {},
   "outputs": [],
   "source": []
  }
 ],
 "metadata": {
  "kernelspec": {
   "display_name": "Python 3",
   "language": "python",
   "name": "python3"
  },
  "language_info": {
   "codemirror_mode": {
    "name": "ipython",
    "version": 3
   },
   "file_extension": ".py",
   "mimetype": "text/x-python",
   "name": "python",
   "nbconvert_exporter": "python",
   "pygments_lexer": "ipython3",
   "version": "3.8.8"
  }
 },
 "nbformat": 4,
 "nbformat_minor": 5
}
